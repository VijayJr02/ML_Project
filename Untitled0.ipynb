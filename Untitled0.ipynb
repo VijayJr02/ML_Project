{
  "nbformat": 4,
  "nbformat_minor": 0,
  "metadata": {
    "colab": {
      "provenance": [],
      "authorship_tag": "ABX9TyMR7F7tOsQTh/AXfjm2JPb/",
      "include_colab_link": true
    },
    "kernelspec": {
      "name": "python3",
      "display_name": "Python 3"
    },
    "language_info": {
      "name": "python"
    }
  },
  "cells": [
    {
      "cell_type": "markdown",
      "metadata": {
        "id": "view-in-github",
        "colab_type": "text"
      },
      "source": [
        "<a href=\"https://colab.research.google.com/github/VijayJr02/ML_Project/blob/main/Untitled0.ipynb\" target=\"_parent\"><img src=\"https://colab.research.google.com/assets/colab-badge.svg\" alt=\"Open In Colab\"/></a>"
      ]
    },
    {
      "cell_type": "code",
      "execution_count": 1,
      "metadata": {
        "id": "7CUX8OPnscET"
      },
      "outputs": [],
      "source": [
        "#importing the libraries\n",
        "from keras.models import Sequential\n",
        "from keras.layers import Dense, Conv2D, Flatten, MaxPool2D\n",
        "from keras.datasets import mnist\n",
        "from keras.utils import to_categorical\n",
        "import numpy as np\n",
        "import matplotlib.pyplot as plt"
      ]
    },
    {
      "cell_type": "code",
      "source": [
        "#Load the data and split it into train and test\n",
        "(X_train, y_train), (X_test, y_test) = mnist.load_data()"
      ],
      "metadata": {
        "colab": {
          "base_uri": "https://localhost:8080/"
        },
        "id": "uEUlO2LRsrxL",
        "outputId": "2555354f-55c3-4792-a45c-0d9c2df61377"
      },
      "execution_count": 2,
      "outputs": [
        {
          "output_type": "stream",
          "name": "stdout",
          "text": [
            "Downloading data from https://storage.googleapis.com/tensorflow/tf-keras-datasets/mnist.npz\n",
            "\u001b[1m11490434/11490434\u001b[0m \u001b[32m━━━━━━━━━━━━━━━━━━━━\u001b[0m\u001b[37m\u001b[0m \u001b[1m0s\u001b[0m 0us/step\n"
          ]
        }
      ]
    },
    {
      "cell_type": "code",
      "source": [
        "#Get the image shape\n",
        "print(X_train.shape)\n",
        "print(X_test.shape)"
      ],
      "metadata": {
        "colab": {
          "base_uri": "https://localhost:8080/"
        },
        "id": "_N_NyZg2s4K1",
        "outputId": "a40d5305-f864-46ca-cfe7-75e527918feb"
      },
      "execution_count": 3,
      "outputs": [
        {
          "output_type": "stream",
          "name": "stdout",
          "text": [
            "(60000, 28, 28)\n",
            "(10000, 28, 28)\n"
          ]
        }
      ]
    },
    {
      "cell_type": "code",
      "source": [
        "plt.imshow(X_train[2])"
      ],
      "metadata": {
        "colab": {
          "base_uri": "https://localhost:8080/",
          "height": 447
        },
        "id": "w4lTiZU1s8QV",
        "outputId": "1f64a452-0516-4ab2-9007-122c2c768032"
      },
      "execution_count": 4,
      "outputs": [
        {
          "output_type": "execute_result",
          "data": {
            "text/plain": [
              "<matplotlib.image.AxesImage at 0x7b65a30374f0>"
            ]
          },
          "metadata": {},
          "execution_count": 4
        },
        {
          "output_type": "display_data",
          "data": {
            "text/plain": [
              "<Figure size 640x480 with 1 Axes>"
            ],
            "image/png": "[encoded data removed]"
          },
          "metadata": {}
        }
      ]
    },
    {
      "cell_type": "code",
      "source": [
        "# Reshaping the data to fit the model\n",
        "X_train = X_train.reshape(60000, 28, 28, 1)\n",
        "X_test = X_test.reshape(10000, 28, 28, 1)"
      ],
      "metadata": {
        "id": "sAqGno4qtGnb"
      },
      "execution_count": 5,
      "outputs": []
    },
    {
      "cell_type": "code",
      "source": [
        "# One-Hot Encoding:\n",
        "y_train_one_hot = to_categorical(y_train)\n",
        "y_test_one_hot = to_categorical(y_test)\n",
        "\n",
        "# Print the new label\n",
        "print(y_train_one_hot[0])"
      ],
      "metadata": {
        "colab": {
          "base_uri": "https://localhost:8080/"
        },
        "id": "auBQqVVntO-N",
        "outputId": "68954676-9985-4f29-8ba9-93b25ca3945f"
      },
      "execution_count": 6,
      "outputs": [
        {
          "output_type": "stream",
          "name": "stdout",
          "text": [
            "[0. 0. 0. 0. 0. 1. 0. 0. 0. 0.]\n"
          ]
        }
      ]
    },
    {
      "cell_type": "code",
      "source": [
        "# Build the CNN model\n",
        "model = Sequential()\n",
        "# Add model layers\n",
        "model.add(Conv2D(64, kernel_size=3, activation = 'relu', input_shape=(28,28,1)))\n",
        "model.add(Conv2D(32, kernel_size=3, activation='relu'))\n",
        "model.add(MaxPool2D(pool_size=(2, 2), strides=None, padding='valid', data_format=None))\n",
        "model.add(Flatten())\n",
        "model.add(Dense(10,activation='softmax'))"
      ],
      "metadata": {
        "colab": {
          "base_uri": "https://localhost:8080/"
        },
        "id": "ow53TTtdtPCd",
        "outputId": "2b20a826-39f0-44f4-88e1-ce323ab2562d"
      },
      "execution_count": 7,
      "outputs": [
        {
          "output_type": "stream",
          "name": "stderr",
          "text": [
            "/usr/local/lib/python3.10/dist-packages/keras/src/layers/convolutional/base_conv.py:107: UserWarning: Do not pass an `input_shape`/`input_dim` argument to a layer. When using Sequential models, prefer using an `Input(shape)` object as the first layer in the model instead.\n",
            "  super().__init__(activity_regularizer=activity_regularizer, **kwargs)\n"
          ]
        }
      ]
    },
    {
      "cell_type": "code",
      "source": [
        "model.compile(optimizer='adam', loss='categorical_crossentropy', metrics=['accuracy'])"
      ],
      "metadata": {
        "id": "Y_5rwoSTtdVT"
      },
      "execution_count": 8,
      "outputs": []
    },
    {
      "cell_type": "code",
      "source": [
        "#Train the model\n",
        "hist = model.fit(X_train,y_train_one_hot, validation_data=(X_test,y_test_one_hot), epochs=10)"
      ],
      "metadata": {
        "colab": {
          "base_uri": "https://localhost:8080/"
        },
        "id": "74N2Z2hytdYT",
        "outputId": "4030cfac-628e-4c45-e5fa-0047b3a302a7"
      },
      "execution_count": 9,
      "outputs": [
        {
          "output_type": "stream",
          "name": "stdout",
          "text": [
            "Epoch 1/10\n",
            "\u001b[1m1875/1875\u001b[0m \u001b[32m━━━━━━━━━━━━━━━━━━━━\u001b[0m\u001b[37m\u001b[0m \u001b[1m190s\u001b[0m 100ms/step - accuracy: 0.9066 - loss: 0.7492 - val_accuracy: 0.9679 - val_loss: 0.1067\n",
            "Epoch 2/10\n",
            "\u001b[1m1875/1875\u001b[0m \u001b[32m━━━━━━━━━━━━━━━━━━━━\u001b[0m\u001b[37m\u001b[0m \u001b[1m183s\u001b[0m 98ms/step - accuracy: 0.9775 - loss: 0.0744 - val_accuracy: 0.9725 - val_loss: 0.0809\n",
            "Epoch 3/10\n",
            "\u001b[1m1875/1875\u001b[0m \u001b[32m━━━━━━━━━━━━━━━━━━━━\u001b[0m\u001b[37m\u001b[0m \u001b[1m180s\u001b[0m 96ms/step - accuracy: 0.9847 - loss: 0.0510 - val_accuracy: 0.9809 - val_loss: 0.0629\n",
            "Epoch 4/10\n",
            "\u001b[1m1875/1875\u001b[0m \u001b[32m━━━━━━━━━━━━━━━━━━━━\u001b[0m\u001b[37m\u001b[0m \u001b[1m206s\u001b[0m 99ms/step - accuracy: 0.9871 - loss: 0.0422 - val_accuracy: 0.9804 - val_loss: 0.0671\n",
            "Epoch 5/10\n",
            "\u001b[1m1875/1875\u001b[0m \u001b[32m━━━━━━━━━━━━━━━━━━━━\u001b[0m\u001b[37m\u001b[0m \u001b[1m201s\u001b[0m 98ms/step - accuracy: 0.9902 - loss: 0.0304 - val_accuracy: 0.9809 - val_loss: 0.0728\n",
            "Epoch 6/10\n",
            "\u001b[1m1875/1875\u001b[0m \u001b[32m━━━━━━━━━━━━━━━━━━━━\u001b[0m\u001b[37m\u001b[0m \u001b[1m204s\u001b[0m 99ms/step - accuracy: 0.9916 - loss: 0.0250 - val_accuracy: 0.9821 - val_loss: 0.0723\n",
            "Epoch 7/10\n",
            "\u001b[1m1875/1875\u001b[0m \u001b[32m━━━━━━━━━━━━━━━━━━━━\u001b[0m\u001b[37m\u001b[0m \u001b[1m208s\u001b[0m 102ms/step - accuracy: 0.9940 - loss: 0.0189 - val_accuracy: 0.9811 - val_loss: 0.0820\n",
            "Epoch 8/10\n",
            "\u001b[1m1875/1875\u001b[0m \u001b[32m━━━━━━━━━━━━━━━━━━━━\u001b[0m\u001b[37m\u001b[0m \u001b[1m191s\u001b[0m 96ms/step - accuracy: 0.9938 - loss: 0.0198 - val_accuracy: 0.9817 - val_loss: 0.0772\n",
            "Epoch 9/10\n",
            "\u001b[1m1875/1875\u001b[0m \u001b[32m━━━━━━━━━━━━━━━━━━━━\u001b[0m\u001b[37m\u001b[0m \u001b[1m199s\u001b[0m 95ms/step - accuracy: 0.9948 - loss: 0.0153 - val_accuracy: 0.9784 - val_loss: 0.1033\n",
            "Epoch 10/10\n",
            "\u001b[1m1875/1875\u001b[0m \u001b[32m━━━━━━━━━━━━━━━━━━━━\u001b[0m\u001b[37m\u001b[0m \u001b[1m207s\u001b[0m 98ms/step - accuracy: 0.9954 - loss: 0.0140 - val_accuracy: 0.9828 - val_loss: 0.0957\n"
          ]
        }
      ]
    },
    {
      "cell_type": "code",
      "source": [
        "print(hist.history)"
      ],
      "metadata": {
        "colab": {
          "base_uri": "https://localhost:8080/"
        },
        "id": "ONsXyEq45QfC",
        "outputId": "767cd8f2-3e8e-466c-a662-c734daca0c99"
      },
      "execution_count": 18,
      "outputs": [
        {
          "output_type": "stream",
          "name": "stdout",
          "text": [
            "{'accuracy': [0.9509000182151794, 0.9775833487510681, 0.9835166931152344, 0.9855166673660278, 0.9890166521072388, 0.9901333451271057, 0.9925833344459534, 0.9929999709129333, 0.9937666654586792, 0.994350016117096], 'loss': [0.22896848618984222, 0.07440655678510666, 0.05443812534213066, 0.046285755932331085, 0.03514926880598068, 0.03127405419945717, 0.02465149760246277, 0.023305034264922142, 0.019843630492687225, 0.01854189671576023], 'val_accuracy': [0.9678999781608582, 0.9725000262260437, 0.98089998960495, 0.980400025844574, 0.98089998960495, 0.9821000099182129, 0.9811000227928162, 0.9817000031471252, 0.9783999919891357, 0.9828000068664551], 'val_loss': [0.10667525976896286, 0.08088945597410202, 0.06286559998989105, 0.06710410118103027, 0.07275499403476715, 0.07225088775157928, 0.08202973008155823, 0.07723914086818695, 0.10330041497945786, 0.09567541629076004]}\n"
          ]
        }
      ]
    },
    {
      "cell_type": "code",
      "source": [
        "# Select a sample image from the test set\n",
        "sample_image = X_test[70]\n",
        "\n",
        "# Display the sample image\n",
        "plt.imshow(sample_image.reshape(28, 28), cmap='gray')\n",
        "plt.show()\n",
        "\n",
        "# Reshape the sample image to match the model's input shape (batch size, height, width, channels)\n",
        "sample_image = np.expand_dims(sample_image, axis=0)\n",
        "\n",
        "# Make a prediction\n",
        "prediction = model.predict(sample_image)\n",
        "\n",
        "# Get the predicted class (the class with the highest probability)\n",
        "predicted_class = np.argmax(prediction)\n",
        "\n",
        "# Get the actual class\n",
        "actual_class = np.argmax(y_test_one_hot[0])\n",
        "\n",
        "print(f\"Predicted class: {predicted_class}\")\n",
        "#print(f\"Actual class: {actual_class}\")\n"
      ],
      "metadata": {
        "colab": {
          "base_uri": "https://localhost:8080/",
          "height": 465
        },
        "id": "1jdrsIZI5nPR",
        "outputId": "3b7536a2-3c7a-4163-abe4-3ec723f266bf"
      },
      "execution_count": 25,
      "outputs": [
        {
          "output_type": "display_data",
          "data": {
            "text/plain": [
              "<Figure size 640x480 with 1 Axes>"
            ],
            "image/png": "[encoded data removed]"
          },
          "metadata": {}
        },
        {
          "output_type": "stream",
          "name": "stdout",
          "text": [
            "\u001b[1m1/1\u001b[0m \u001b[32m━━━━━━━━━━━━━━━━━━━━\u001b[0m\u001b[37m\u001b[0m \u001b[1m0s\u001b[0m 30ms/step\n",
            "Predicted class: 7\n"
          ]
        }
      ]
    }
  ]
}